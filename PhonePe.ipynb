import pandas as pd
import pymysql
import plotly.express as px
import requests
import json

#DataFrame Creation
#Mysql connection
mydb = pymysql.connect(host='127.0.0.1', user='root', password='Prajith581998@', database='phonepe_data')
cursor = mydb.cursor()

#Aggregated_insurance_df
cursor.execute("SELECT * FROM aggregated_insurance;")
mydb.commit()
table7 = cursor.fetchall()

Aggregated_insurance= pd.DataFrame(table7,columns = ("States", "Years", "Quarter", "Transaction_type",
                                                 "Transaction_count","Transaction_amount"))

#aggregated_transaction_df
cursor.execute(" SELECT * FROM aggregated_transaction")
mydb.commit()
table1=cursor.fetchall()

Aggregated_transaction=pd.DataFrame(table1,columns=("States","Years","Quarter","Transaction_type",
                                                    "Transaction_count","Transaction_amount"))

#aggregated_user table
cursor.execute(" SELECT * FROM aggregated_user")
mydb.commit()
table2=cursor.fetchall()

Aggregated_user=pd.DataFrame(table2,columns=("States","Years","Quarter","Brands",
                                             "Transaction_count","Percentage"))

#map_insurance table
cursor.execute("SELECT * FROM map_insurance")
mydb.commit()
table8 = cursor.fetchall()

Map_insurance = pd.DataFrame(table8,columns = ("States", "Years", "Quarter", "Districts",
                                               "Transaction_count","Transaction_amount"))

#map_transaction table
cursor.execute(" SELECT * FROM map_transaction")
mydb.commit()
table3=cursor.fetchall()

Map_transaction=pd.DataFrame(table3,columns=("States","Years","Quarter","Districts",
                                             "Transaction_count","Transaction_amount"))

#map_user table
cursor.execute(" SELECT * FROM map_user")
mydb.commit()
table4=cursor.fetchall()

Map_user=pd.DataFrame(table4,columns=("States","Years","Quarter","Districts",
                                      "RegisteredUsers","AppOpens"))

#top_insurance table
cursor.execute("SELECT * FROM top_insurance")
mydb.commit()
table9 = cursor.fetchall()

Top_insurance = pd.DataFrame(table9,columns = ("States", "Years", "Quarter", "Pincodes",
                                               "Transaction_count", "Transaction_amount"))

#top_transaction table
cursor.execute(" SELECT * FROM top_transaction")
mydb.commit()
table5=cursor.fetchall()

Top_transaction=pd.DataFrame(table5,columns=("States","Years","Quarter","Pincodes",
                                             "Transaction_count","Transaction_amount"))

#top_user table
cursor.execute(" SELECT * FROM top_user")
mydb.commit()
table6=cursor.fetchall()

Top_user=pd.DataFrame(table6,columns=("States","Years","Quarter",
                                      "Pincodes","RegisteredUsers"))

#topchart_transaction_amount
def topchart_transaction_amount(table_name):
        mydb = pymysql.connect(host='127.0.0.1', user='root', password='Prajith581998@', database='phonepe_data')
        cursor = mydb.cursor()
        #plot1
        query1=f'''SELECT States, SUM(Transaction_amount) as Transaction_amount 
                FROM {table_name}
                GROUP BY states 
                ORDER BY Transaction_amount DESC 
                LIMIT 10'''
        cursor.execute(query1)
        t1=cursor.fetchall()
        mydb.commit()

        df1=pd.DataFrame(t1,columns=("States","Transaction_amount"))

        fig_bar1=px.bar(df1,x="States",y="Transaction_amount",title="TOP 10-TRANSACTION AMOUNT",
                        height=500,width=600,color_discrete_sequence=px.colors.sequential.Oryel_r,hover_name="States")
        fig_bar1.show()

        #plot2
        query2=f'''SELECT States, SUM(Transaction_amount) as Transaction_amount 
                FROM {table_name}
                GROUP BY states 
                ORDER BY Transaction_amount
                LIMIT 10'''
        cursor.execute(query2)
        t2=cursor.fetchall()
        mydb.commit()

        df2=pd.DataFrame(t2,columns=("States","Transaction_amount"))

        fig_bar2=px.bar(df2,x="States",y="Transaction_amount",title="LAST 10-TRANSACTION AMOUNT",
                        height=500,width=600,color_discrete_sequence=px.colors.sequential.Aggrnyl,hover_name="States")
        fig_bar2.show()

        #plot3
        query3=f'''SELECT States, AVG(Transaction_amount) as Transaction_amount 
                FROM {table_name}
                GROUP BY states 
                ORDER BY Transaction_amount'''
        cursor.execute(query3)
        t3=cursor.fetchall()
        mydb.commit()

        df3=pd.DataFrame(t3,columns=("States","Transaction_amount"))

        fig_bar3=px.bar(df3,x="Transaction_amount",y="States",title="AVERAGE-TRANSACTION AMOUNT",orientation="h",
                        height=700,width=800,color_discrete_sequence=px.colors.sequential.algae_r,hover_name="States")
        fig_bar3.show()

#topchart_transaction_count
def topchart_transaction_count(table_name):
        mydb = pymysql.connect(host='127.0.0.1', user='root', password='Prajith581998@', database='phonepe_data')
        cursor = mydb.cursor()
        #plot1
        query1=f'''SELECT States, SUM(Transaction_count) as Transaction_count 
                FROM {table_name}
                GROUP BY states 
                ORDER BY Transaction_count DESC 
                LIMIT 10'''
        cursor.execute(query1)
        t1=cursor.fetchall()
        mydb.commit()

        df1=pd.DataFrame(t1,columns=("States","Transaction_count"))

        fig_bar1=px.bar(df1,x="States",y="Transaction_count",title="TOP 10-TRANSACTION COUNT",
                        height=500,width=600,color_discrete_sequence=px.colors.sequential.Oryel_r,hover_name="States")
        fig_bar1.show()

        #plot2
        query2=f'''SELECT States, SUM(Transaction_count) as Transaction_count 
                FROM {table_name}
                GROUP BY states 
                ORDER BY Transaction_count
                LIMIT 10'''
        cursor.execute(query2)
        t2=cursor.fetchall()
        mydb.commit()

        df2=pd.DataFrame(t2,columns=("States","Transaction_count"))

        fig_bar2=px.bar(df2,x="States",y="Transaction_count",title="LAST 10-TRANSACTION COUNT",
                        height=500,width=600,color_discrete_sequence=px.colors.sequential.Aggrnyl,hover_name="States")
        fig_bar2.show()

        #plot3
        query3=f'''SELECT States, AVG(Transaction_count) as Transaction_count 
                FROM {table_name}
                GROUP BY states 
                ORDER BY Transaction_count'''
        cursor.execute(query3)
        t3=cursor.fetchall()
        mydb.commit()

        df3=pd.DataFrame(t3,columns=("States","Transaction_count"))

        fig_bar3=px.bar(df3,x="Transaction_count",y="States",title="AVERAGE-TRANSACTION COUNT",orientation="h",
                        height=700,width=800,color_discrete_sequence=px.colors.sequential.algae_r,hover_name="States")
        fig_bar3.show()

#topchart_registeredusers
def topchart_registeredusers(table_name,state):
        mydb = pymysql.connect(host='127.0.0.1', user='root', password='Prajith581998@', database='phonepe_data')
        cursor = mydb.cursor()
        #plot1
        query1=f'''SELECT Districts, SUM(RegisteredUsers) as RegisteredUsers 
                FROM {table_name}
                where States= '{state}'
                GROUP BY Districts 
                ORDER BY RegisteredUsers DESC 
                LIMIT 10'''
        cursor.execute(query1)
        t1=cursor.fetchall()
        mydb.commit()

        df1=pd.DataFrame(t1,columns=("Districts","RegisteredUsers"))

        fig_bar1=px.bar(df1,x="Districts",y="RegisteredUsers",title="TOP 10-REGISTEREDUSERS",
                        height=500,width=600,color_discrete_sequence=px.colors.sequential.Oryel_r,hover_name="Districts")
        fig_bar1.show()

        #plot2
        query2=f'''SELECT Districts, SUM(RegisteredUsers) as RegisteredUsers 
                FROM {table_name}
                where States= '{state}'
                GROUP BY Districts 
                ORDER BY RegisteredUsers 
                LIMIT 10'''
        cursor.execute(query2)
        t2=cursor.fetchall()
        mydb.commit()

        df2=pd.DataFrame(t2,columns=("Districts","RegisteredUsers"))

        fig_bar2=px.bar(df2,x="Districts",y="RegisteredUsers",title="LAST 10-REGISTEREDUSERS",
                        height=500,width=600,color_discrete_sequence=px.colors.sequential.Aggrnyl,hover_name="Districts")
        fig_bar2.show()

        #plot3
        query3=f'''SELECT Districts, AVG(RegisteredUsers) as RegisteredUsers 
                FROM {table_name}
                where States= '{state}'
                GROUP BY Districts 
                ORDER BY RegisteredUsers'''
        cursor.execute(query3)
        t3=cursor.fetchall()
        mydb.commit()

        df3=pd.DataFrame(t3,columns=("Districts","RegisteredUsers"))

        fig_bar3=px.bar(df3,x="RegisteredUsers",y="Districts",title="AVERAGE-REGISTEREDUSERS",orientation="h",
                        height=700,width=800,color_discrete_sequence=px.colors.sequential.algae_r,hover_name="Districts")
        fig_bar3.show()

#topchart_appopens
def topchart_appopens(table_name,state):
        mydb = pymysql.connect(host='127.0.0.1', user='root', password='Prajith581998@', database='phonepe_data')
        cursor = mydb.cursor()
        #plot1
        query1=f'''SELECT Districts, SUM(AppOpens) as AppOpens 
                FROM {table_name}
                where States= '{state}'
                GROUP BY Districts 
                ORDER BY AppOpens DESC 
                LIMIT 10'''
        cursor.execute(query1)
        t1=cursor.fetchall()
        mydb.commit()

        df1=pd.DataFrame(t1,columns=("Districts","AppOpens"))

        fig_bar1=px.bar(df1,x="Districts",y="AppOpens",title="TOP 10-APPOPENS",
                        height=500,width=600,color_discrete_sequence=px.colors.sequential.Oryel_r,hover_name="Districts")
        fig_bar1.show()

        #plot2
        query2=f'''SELECT Districts, SUM(AppOpens) as AppOpens 
                FROM {table_name}
                where States= '{state}'
                GROUP BY Districts 
                ORDER BY AppOpens 
                LIMIT 10'''
        cursor.execute(query2)
        t2=cursor.fetchall()
        mydb.commit()

        df2=pd.DataFrame(t2,columns=("Districts","AppOpens"))

        fig_bar2=px.bar(df2,x="Districts",y="AppOpens",title="LAST 10-APPOPENS",
                        height=500,width=600,color_discrete_sequence=px.colors.sequential.Aggrnyl,hover_name="Districts")
        fig_bar2.show()

        #plot3
        query3=f'''SELECT Districts, AVG(AppOpens) as AppOpens 
                FROM {table_name}
                where States= '{state}'
                GROUP BY Districts 
                ORDER BY AppOpens'''
        cursor.execute(query3)
        t3=cursor.fetchall()
        mydb.commit()

        df3=pd.DataFrame(t3,columns=("Districts","AppOpens"))

        fig_bar3=px.bar(df3,x="AppOpens",y="Districts",title="AVERAGE-APPOPENS",orientation="h",
                        height=700,width=800,color_discrete_sequence=px.colors.sequential.algae_r,hover_name="Districts")
        fig_bar3.show()

#topchart_transactioncount
def topchart_transactioncount(table_name):
        mydb = pymysql.connect(host='127.0.0.1', user='root', password='Prajith581998@', database='phonepe_data')
        cursor = mydb.cursor()
        #plot1
        query1=f'''SELECT Brands, sum(Transaction_count) as Transaction_count 
                FROM {table_name}
                GROUP BY Brands
                ORDER BY Transaction_count DESC
                LIMIT 10'''
        cursor.execute(query1)
        t1=cursor.fetchall()
        mydb.commit()

        df1=pd.DataFrame(t1,columns=("Brands","Transaction_count"))

        fig_bar1=px.bar(df1,x="Brands",y="Transaction_count",title="TOP 10-TRANSACTION COUNT",
                        height=500,width=600,color_discrete_sequence=px.colors.sequential.Oryel_r,hover_name="Brands")
        fig_bar1.show()

        #plot2
        query2=f'''SELECT Brands, sum(Transaction_count) as Transaction_count 
                FROM {table_name}
                GROUP BY Brands
                ORDER BY Transaction_count
                LIMIT 10'''
        cursor.execute(query2)
        t2=cursor.fetchall()
        mydb.commit()

        df2=pd.DataFrame(t2,columns=("Brands","Transaction_count"))

        fig_bar2=px.bar(df2,x="Brands",y="Transaction_count",title="LAST 10-TRANSACTION COUNT",
                        height=500,width=600,color_discrete_sequence=px.colors.sequential.Aggrnyl,hover_name="Brands")
        fig_bar2.show()


topchart_transaction_amount("aggregated_transaction")

topchart_transaction_count("aggregated_transaction")

topchart_registeredusers("map_user",'Tamil Nadu')

topchart_appopens("map_user",'Goa')

topchart_transactioncount("aggregated_user")

#Transaction_Year
def Transaction_count_amount(df,yr):
    year=df[df['Years']== yr]
    year.reset_index(drop=True,inplace=True)
    group_year=year.groupby("States")[['Transaction_count','Transaction_amount']].sum()
    group_year.reset_index(inplace = True)

    fig_count=px.bar(group_year,x='States',y='Transaction_count',title=f"{yr} Transaction_Count",
                    color_discrete_sequence=px.colors.sequential.Electric, height=500, width=600)
    fig_count.show()

    fig_amount=px.bar(group_year,x='States',y='Transaction_amount',title=f"{yr} Transaction_Amount",
                    color_discrete_sequence=px.colors.sequential.Oryel, height=500, width=600)
    fig_amount.show()

    url="https://gist.githubusercontent.com/jbrobst/56c13bbbf9d97d187fea01ca62ea5112/raw/e388c4cae20aa53cb5090210a42ebb9b765c0a36/india_states.geojson"
    response=requests.get(url)
    coordinate=json.loads(response.content)
    state_names=[]
    for i in coordinate["features"]:
        state_names.append(i['properties']['ST_NM'])
    state_names.sort()

    fig_geo_count=px.choropleth(group_year, geojson=coordinate, locations="States",featureidkey="properties.ST_NM",
                                color="Transaction_count",color_continuous_scale="ylorrd",height=500,width=600,
                                range_color=(group_year["Transaction_count"].min(),group_year["Transaction_count"].max()),
                                hover_name="States", title= f"{yr} TRANSACTION COUNT",fitbounds="locations")
    fig_geo_count.update_geos(visible= False)
    fig_geo_count.show()

    fig_geo_amount=px.choropleth(group_year, geojson=coordinate, locations="States",featureidkey="properties.ST_NM",
                            color="Transaction_amount",color_continuous_scale="ylgnbu",height=500,width=600,
                            range_color=(group_year["Transaction_amount"].min(),group_year["Transaction_amount"].max()),
                            hover_name="States", title= f"{yr} TRANSACTION AMOUNT",fitbounds="locations")
    fig_geo_amount.update_geos(visible= False)
    fig_geo_amount.show()

    return year

#Transaction_Quarter
def Transaction_count_amount_Q(df,quarter):
    year=df[df['Quarter']== quarter]
    year.reset_index(drop=True,inplace=True)
    group_year=year.groupby("States")[['Transaction_count','Transaction_amount']].sum()
    group_year.reset_index(inplace = True)

    fig_count=px.bar(group_year,x='States',y='Transaction_count',title=f"{year['Years'].min()} YEAR {quarter} QUARTER Transaction_Count",
                    color_discrete_sequence=px.colors.sequential.Electric, height=500, width=600)
    fig_count.show()

    fig_amount=px.bar(group_year,x='States',y='Transaction_amount',title=f"{year['Years'].min()} YEAR {quarter} QUARTER Transaction_Amount",
                    color_discrete_sequence=px.colors.sequential.Oryel, height=500, width=600)
    fig_amount.show()

    url="https://gist.githubusercontent.com/jbrobst/56c13bbbf9d97d187fea01ca62ea5112/raw/e388c4cae20aa53cb5090210a42ebb9b765c0a36/india_states.geojson"
    response=requests.get(url)
    coordinate=json.loads(response.content)
    state_names=[]
    for i in coordinate["features"]:
        state_names.append(i['properties']['ST_NM'])
    state_names.sort()

    fig_geo_count=px.choropleth(group_year, geojson=coordinate, locations="States",featureidkey="properties.ST_NM",
                                color="Transaction_count",color_continuous_scale="ylorrd",height=500,width=600,
                                range_color=(group_year["Transaction_count"].min(),group_year["Transaction_count"].max()),
                                hover_name="States", title= f"{year['Years'].min()} YEAR {quarter} QUARTER  TRANSACTION COUNT",fitbounds="locations")
    fig_geo_count.update_geos(visible= False)
    fig_geo_count.show()

    fig_geo_amount=px.choropleth(group_year, geojson=coordinate, locations="States",featureidkey="properties.ST_NM",
                            color="Transaction_amount",color_continuous_scale="ylgnbu",height=500,width=600,
                            range_color=(group_year["Transaction_amount"].min(),group_year["Transaction_amount"].max()),
                            hover_name="States", title= f"{year['Years'].min()} YEAR {quarter} QUARTER  TRANSACTION AMOUNT",fitbounds="locations")
    fig_geo_amount.update_geos(visible= False)
    fig_geo_amount.show()

    return year

#Transaction_Type
def Agg_tran_type(df,state):
    year=df[df['States']== state]
    year.reset_index(drop=True,inplace=True)
    group_year=year.groupby("Transaction_type")[['Transaction_count','Transaction_amount']].sum()
    group_year.reset_index(inplace = True)

    fig_pie_1=px.pie(data_frame=year,names="Transaction_type",values="Transaction_amount",
                    width=500,title=f"{state.upper()} TRANSACTION AMOUNT",hole=0.4)
    fig_pie_1.show()
    fig_pie_2=px.pie(data_frame=year,names="Transaction_type",values="Transaction_count",
                    width=500,title=f"{state.upper()} TRANSACTION COUNT",hole=0.4)
    fig_pie_2.show()

#Agg_user_p1
def Agg_user_plot1(df,year):
    agg_user=df[df["Years"]==year]
    agg_user.reset_index(drop=True,inplace=True)
    agg_userg=pd.DataFrame(agg_user.groupby("Brands")["Transaction_count"].sum())
    agg_userg.reset_index(inplace=True)

    fig_bar1=px.bar(agg_userg,x="Brands",y="Transaction_count",title=f"{year} BRANDS & TRANSACTION COUNT",
                    width=800,color_discrete_sequence=px.colors.sequential.Oryel_r,hover_name="Brands")
    fig_bar1.show()

    return agg_user

#Agg_user_p2
def Agg_user_plot2(df,quarter):
    agg_user_q=df[df["Quarter"]==quarter]
    agg_user_q.reset_index(drop=True,inplace=True)
    agg_user_qg=pd.DataFrame(agg_user_q.groupby("Brands")["Transaction_count"].sum())
    agg_user_qg.reset_index(inplace=True)

    fig_bar1=px.bar(agg_user_qg,x="Brands",y="Transaction_count",title= f"{quarter} QUARTER-BRANDS & TRANSACTION COUNT",
                        width=800,color_discrete_sequence=px.colors.sequential.Jet,hover_name="Brands")
    fig_bar1.show()

    return agg_user_q

#Agg_user_p3
def Agg_user_plot3(df,state):
    agg_user_qs=df[df["States"]==state]
    agg_user_qs.reset_index(drop=True,inplace=True)

    fig_line1=px.line(agg_user_qs,x="Brands",y="Transaction_count",hover_data="Percentage",
                    title=f"{state.upper()}-BRANDS & TRANSACTION COUNT & PERCENTAGE",width=800,markers=True)
    fig_line1.show()

#Map_insurance_districts
def Map_insur_dist(df,state):
    year=df[df['States']== state]
    year.reset_index(drop=True,inplace=True)
    group_year=year.groupby("Districts")[['Transaction_count','Transaction_amount']].sum()
    group_year.reset_index(inplace = True)

    fig_bar_1=px.bar(group_year,x="Transaction_amount",y="Districts",orientation="h",
                     title=f"{state.upper()}-DISTRICT & TRANSACTION AMOUNT",color_discrete_sequence=px.colors.sequential.Oryel_r)
    fig_bar_1.show()
    fig_bar_2=px.bar(group_year,x="Transaction_count",y="Districts",orientation="h",
                     title=f"{state.upper()}-DISTRICT & TRANSACTION COUNT",color_discrete_sequence=px.colors.sequential.Sunsetdark)
    fig_bar_2.show()

#map_user_plot1
def map_user_plot1(df,year):
    map_user=df[df["Years"]==year]
    map_user.reset_index(drop=True,inplace=True)
    map_userg=map_user.groupby("States")[["RegisteredUsers","AppOpens"]].sum()
    map_userg.reset_index(inplace=True)

    fig_line1=px.line(map_userg,x="States",y=["RegisteredUsers","AppOpens"],
                        title=f"{year}-REGISTERED USERS & APPOPENS",width=900,height=750,markers=True,
                        color_discrete_sequence=px.colors.sequential.Bluered)
    fig_line1.show()

    return map_user

#map_user_plot2
def map_user_plot2(df,quarter):
    map_userq=df[df["Quarter"]==quarter]
    map_userq.reset_index(drop=True,inplace=True)
    map_userqg=map_userq.groupby("States")[["RegisteredUsers","AppOpens"]].sum()
    map_userqg.reset_index(inplace=True)

    fig_line2=px.line(map_userqg,x="States",y=["RegisteredUsers","AppOpens"],
                        title=f"{df['Years'].min()}-{quarter} QUARTER-REGISTERED USERS & APPOPENS",width=900,height=750,markers=True,
                        color_discrete_sequence=px.colors.sequential.Blackbody)
    fig_line2.show()

    return map_userq

#map_user_plot3
def map_user_plot3(df,states):
    map_userqs=df[df["States"]==states]
    map_userqs.reset_index(drop=True,inplace=True)

    fig_bar1=px.bar(map_userqs,x="RegisteredUsers",y="Districts",orientation="h",
                    title=f"{states.upper()}-REGISTERED USERS",height=800,color_discrete_sequence=px.colors.sequential.Agsunset)
    fig_bar1.show()
    fig_bar2=px.bar(map_userqs,x="AppOpens",y="Districts",orientation="h",
                    title=f"{states.upper()}-APPOPENS",height=800,color_discrete_sequence=px.colors.sequential.Bluered)
    fig_bar2.show()

#top_insur_plot1
def top_insur_plot1(df,state):
    top_insur=df[df["States"]==state]
    top_insur.reset_index(drop=True,inplace=True)

    fig_bar1=px.bar(top_insur,x="Quarter",y="Transaction_amount",hover_data="Pincodes",
                    title="TRANSACTION AMOUNT",height=500,width=600,color_discrete_sequence=px.colors.sequential.Oryel_r)
    fig_bar1.show()

    fig_bar2=px.bar(top_insur,x="Quarter",y="Transaction_count",hover_data="Pincodes",
                    title="TRANSACTION COUNT",height=500,width=600,color_discrete_sequence=px.colors.sequential.Agsunset)
    fig_bar2.show()

#top_user_plot1
def top_user_plot1(df,year):
    top_user=df[df["Years"]==year]
    top_user.reset_index(drop=True,inplace=True)
    top_userg=pd.DataFrame(top_user.groupby(["States","Quarter"])["RegisteredUsers"].sum())
    top_userg.reset_index(inplace=True)

    fig_bar1=px.bar(top_userg,x="States",y="RegisteredUsers",color="Quarter",
                        title=f"{year}-REGISTERED USERS",height=800,width=750,
                        color_discrete_sequence=px.colors.sequential.Jet,hover_name="States")
    fig_bar1.show()

    return top_user

#top_user_plot2
def top_user_plot2(df,state):
    Top_user_YS=df[df["States"]==state]
    Top_user_YS.reset_index(drop=True,inplace=True)

    fig_bar1=px.bar(Top_user_YS,x="Quarter",y="RegisteredUsers",title="REGISTERED USERS-PINCODES-QUARTER",
                    width=850,height=700,color="RegisteredUsers",hover_data="Pincodes",
                    color_continuous_scale=px.colors.sequential.Burg_r)
    fig_bar1.show()

#agg_insur
Tran_Y=Transaction_count_amount(Aggregated_insurance,2022)

#agg_tran
Agg_Tran_Y=Transaction_count_amount(Aggregated_transaction,2023)
Agg_tran_type(Agg_Tran_Y,"Tamil Nadu")
Agg_Tran_YQ=Transaction_count_amount_Q(Agg_Tran_Y,3)
Agg_tran_type(Agg_Tran_YQ,"Tamil Nadu")

#Agg_User
Agg_User_Y=Agg_user_plot1(Aggregated_user,2021)
Agg_User_YQ=Agg_user_plot2(Agg_User_Y,2)
Agg_user_plot3(Agg_User_YQ,"Goa")

#map_insur
Map_insur_Y=Transaction_count_amount(Map_insurance,2023)
Map_insur_dist(Map_insur_Y,"Tamil Nadu")
Map_insur_YQ=Transaction_count_amount_Q(Map_insur_Y,3)
Map_insur_dist(Map_insur_YQ,"Tamil Nadu")

#map transaction
Map_tran_Y=Transaction_count_amount(Map_transaction,2020)
Map_insur_dist(Map_tran_Y,"Tamil Nadu")
Map_tran_YQ=Transaction_count_amount_Q(Map_tran_Y,3)
Map_insur_dist(Map_tran_YQ,"Tamil Nadu")

#Map_user
Map_userY=map_user_plot1(Map_user,2023)
Map_userYQ=map_user_plot2(Map_userY,1)
map_user_plot3(Map_userYQ,"Goa")

#Top_insur
Top_insur_Y=Transaction_count_amount(Top_insurance,2023)
top_insur_plot1(Top_insur_Y,"Goa")
Top_insur_YQ=Transaction_count_amount_Q(Top_insur_Y,3)

#Top_tran
Top_tran_Y=Transaction_count_amount(Top_transaction,2023)
top_insur_plot1(Top_tran_Y,"Goa")
Top_tran_YQ=Transaction_count_amount_Q(Top_tran_Y,3)

#Top_user
Top_user_Y=top_user_plot1(Top_user,2020)
top_user_plot2(Top_user_Y,"Goa")
